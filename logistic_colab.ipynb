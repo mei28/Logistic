{
  "nbformat": 4,
  "nbformat_minor": 0,
  "metadata": {
    "colab": {
      "name": "logistic_colab",
      "provenance": [],
      "collapsed_sections": [],
      "include_colab_link": true
    },
    "kernelspec": {
      "name": "python3",
      "display_name": "Python 3"
    }
  },
  "cells": [
    {
      "cell_type": "markdown",
      "metadata": {
        "id": "view-in-github",
        "colab_type": "text"
      },
      "source": [
        "<a href=\"https://colab.research.google.com/github/sonicchomp/Logstic/blob/master/logistic_colab.ipynb\" target=\"_parent\"><img src=\"https://colab.research.google.com/assets/colab-badge.svg\" alt=\"Open In Colab\"/></a>"
      ]
    },
    {
      "cell_type": "code",
      "metadata": {
        "id": "N-jZ83CcbKaX",
        "colab_type": "code",
        "outputId": "2a68421d-1bd3-4dbe-cb51-07a691ffaf74",
        "colab": {
          "base_uri": "https://localhost:8080/",
          "height": 528
        }
      },
      "source": [
        "from google.colab import drive\n",
        "drive.mount('/content/drive')\n"
      ],
      "execution_count": 0,
      "outputs": [
        {
          "output_type": "error",
          "ename": "KeyboardInterrupt",
          "evalue": "ignored",
          "traceback": [
            "\u001b[0;31m---------------------------------------------------------------------------\u001b[0m",
            "\u001b[0;31mKeyboardInterrupt\u001b[0m                         Traceback (most recent call last)",
            "\u001b[0;32m/usr/local/lib/python3.6/dist-packages/ipykernel/kernelbase.py\u001b[0m in \u001b[0;36m_input_request\u001b[0;34m(self, prompt, ident, parent, password)\u001b[0m\n\u001b[1;32m    729\u001b[0m             \u001b[0;32mtry\u001b[0m\u001b[0;34m:\u001b[0m\u001b[0;34m\u001b[0m\u001b[0;34m\u001b[0m\u001b[0m\n\u001b[0;32m--> 730\u001b[0;31m                 \u001b[0mident\u001b[0m\u001b[0;34m,\u001b[0m \u001b[0mreply\u001b[0m \u001b[0;34m=\u001b[0m \u001b[0mself\u001b[0m\u001b[0;34m.\u001b[0m\u001b[0msession\u001b[0m\u001b[0;34m.\u001b[0m\u001b[0mrecv\u001b[0m\u001b[0;34m(\u001b[0m\u001b[0mself\u001b[0m\u001b[0;34m.\u001b[0m\u001b[0mstdin_socket\u001b[0m\u001b[0;34m,\u001b[0m \u001b[0;36m0\u001b[0m\u001b[0;34m)\u001b[0m\u001b[0;34m\u001b[0m\u001b[0;34m\u001b[0m\u001b[0m\n\u001b[0m\u001b[1;32m    731\u001b[0m             \u001b[0;32mexcept\u001b[0m \u001b[0mException\u001b[0m\u001b[0;34m:\u001b[0m\u001b[0;34m\u001b[0m\u001b[0;34m\u001b[0m\u001b[0m\n",
            "\u001b[0;32m/usr/local/lib/python3.6/dist-packages/jupyter_client/session.py\u001b[0m in \u001b[0;36mrecv\u001b[0;34m(self, socket, mode, content, copy)\u001b[0m\n\u001b[1;32m    802\u001b[0m         \u001b[0;32mtry\u001b[0m\u001b[0;34m:\u001b[0m\u001b[0;34m\u001b[0m\u001b[0;34m\u001b[0m\u001b[0m\n\u001b[0;32m--> 803\u001b[0;31m             \u001b[0mmsg_list\u001b[0m \u001b[0;34m=\u001b[0m \u001b[0msocket\u001b[0m\u001b[0;34m.\u001b[0m\u001b[0mrecv_multipart\u001b[0m\u001b[0;34m(\u001b[0m\u001b[0mmode\u001b[0m\u001b[0;34m,\u001b[0m \u001b[0mcopy\u001b[0m\u001b[0;34m=\u001b[0m\u001b[0mcopy\u001b[0m\u001b[0;34m)\u001b[0m\u001b[0;34m\u001b[0m\u001b[0;34m\u001b[0m\u001b[0m\n\u001b[0m\u001b[1;32m    804\u001b[0m         \u001b[0;32mexcept\u001b[0m \u001b[0mzmq\u001b[0m\u001b[0;34m.\u001b[0m\u001b[0mZMQError\u001b[0m \u001b[0;32mas\u001b[0m \u001b[0me\u001b[0m\u001b[0;34m:\u001b[0m\u001b[0;34m\u001b[0m\u001b[0;34m\u001b[0m\u001b[0m\n",
            "\u001b[0;32m/usr/local/lib/python3.6/dist-packages/zmq/sugar/socket.py\u001b[0m in \u001b[0;36mrecv_multipart\u001b[0;34m(self, flags, copy, track)\u001b[0m\n\u001b[1;32m    465\u001b[0m         \"\"\"\n\u001b[0;32m--> 466\u001b[0;31m         \u001b[0mparts\u001b[0m \u001b[0;34m=\u001b[0m \u001b[0;34m[\u001b[0m\u001b[0mself\u001b[0m\u001b[0;34m.\u001b[0m\u001b[0mrecv\u001b[0m\u001b[0;34m(\u001b[0m\u001b[0mflags\u001b[0m\u001b[0;34m,\u001b[0m \u001b[0mcopy\u001b[0m\u001b[0;34m=\u001b[0m\u001b[0mcopy\u001b[0m\u001b[0;34m,\u001b[0m \u001b[0mtrack\u001b[0m\u001b[0;34m=\u001b[0m\u001b[0mtrack\u001b[0m\u001b[0;34m)\u001b[0m\u001b[0;34m]\u001b[0m\u001b[0;34m\u001b[0m\u001b[0;34m\u001b[0m\u001b[0m\n\u001b[0m\u001b[1;32m    467\u001b[0m         \u001b[0;31m# have first part already, only loop while more to receive\u001b[0m\u001b[0;34m\u001b[0m\u001b[0;34m\u001b[0m\u001b[0;34m\u001b[0m\u001b[0m\n",
            "\u001b[0;32mzmq/backend/cython/socket.pyx\u001b[0m in \u001b[0;36mzmq.backend.cython.socket.Socket.recv\u001b[0;34m()\u001b[0m\n",
            "\u001b[0;32mzmq/backend/cython/socket.pyx\u001b[0m in \u001b[0;36mzmq.backend.cython.socket.Socket.recv\u001b[0;34m()\u001b[0m\n",
            "\u001b[0;32mzmq/backend/cython/socket.pyx\u001b[0m in \u001b[0;36mzmq.backend.cython.socket._recv_copy\u001b[0;34m()\u001b[0m\n",
            "\u001b[0;32m/usr/local/lib/python3.6/dist-packages/zmq/backend/cython/checkrc.pxd\u001b[0m in \u001b[0;36mzmq.backend.cython.checkrc._check_rc\u001b[0;34m()\u001b[0m\n",
            "\u001b[0;31mKeyboardInterrupt\u001b[0m: ",
            "\nDuring handling of the above exception, another exception occurred:\n",
            "\u001b[0;31mKeyboardInterrupt\u001b[0m                         Traceback (most recent call last)",
            "\u001b[0;32m<ipython-input-1-d5df0069828e>\u001b[0m in \u001b[0;36m<module>\u001b[0;34m()\u001b[0m\n\u001b[1;32m      1\u001b[0m \u001b[0;32mfrom\u001b[0m \u001b[0mgoogle\u001b[0m\u001b[0;34m.\u001b[0m\u001b[0mcolab\u001b[0m \u001b[0;32mimport\u001b[0m \u001b[0mdrive\u001b[0m\u001b[0;34m\u001b[0m\u001b[0;34m\u001b[0m\u001b[0m\n\u001b[0;32m----> 2\u001b[0;31m \u001b[0mdrive\u001b[0m\u001b[0;34m.\u001b[0m\u001b[0mmount\u001b[0m\u001b[0;34m(\u001b[0m\u001b[0;34m'/content/drive'\u001b[0m\u001b[0;34m)\u001b[0m\u001b[0;34m\u001b[0m\u001b[0;34m\u001b[0m\u001b[0m\n\u001b[0m",
            "\u001b[0;32m/usr/local/lib/python3.6/dist-packages/google/colab/drive.py\u001b[0m in \u001b[0;36mmount\u001b[0;34m(mountpoint, force_remount, timeout_ms)\u001b[0m\n\u001b[1;32m    202\u001b[0m       \u001b[0;31m# Not already authorized, so do the authorization dance.\u001b[0m\u001b[0;34m\u001b[0m\u001b[0;34m\u001b[0m\u001b[0;34m\u001b[0m\u001b[0m\n\u001b[1;32m    203\u001b[0m       \u001b[0mauth_prompt\u001b[0m \u001b[0;34m=\u001b[0m \u001b[0md\u001b[0m\u001b[0;34m.\u001b[0m\u001b[0mmatch\u001b[0m\u001b[0;34m.\u001b[0m\u001b[0mgroup\u001b[0m\u001b[0;34m(\u001b[0m\u001b[0;36m1\u001b[0m\u001b[0;34m)\u001b[0m \u001b[0;34m+\u001b[0m \u001b[0;34m'\\n\\nEnter your authorization code:\\n'\u001b[0m\u001b[0;34m\u001b[0m\u001b[0;34m\u001b[0m\u001b[0m\n\u001b[0;32m--> 204\u001b[0;31m       \u001b[0md\u001b[0m\u001b[0;34m.\u001b[0m\u001b[0msend\u001b[0m\u001b[0;34m(\u001b[0m\u001b[0m_getpass\u001b[0m\u001b[0;34m.\u001b[0m\u001b[0mgetpass\u001b[0m\u001b[0;34m(\u001b[0m\u001b[0mauth_prompt\u001b[0m\u001b[0;34m)\u001b[0m \u001b[0;34m+\u001b[0m \u001b[0;34m'\\n'\u001b[0m\u001b[0;34m)\u001b[0m\u001b[0;34m\u001b[0m\u001b[0;34m\u001b[0m\u001b[0m\n\u001b[0m\u001b[1;32m    205\u001b[0m   \u001b[0md\u001b[0m\u001b[0;34m.\u001b[0m\u001b[0msendcontrol\u001b[0m\u001b[0;34m(\u001b[0m\u001b[0;34m'z'\u001b[0m\u001b[0;34m)\u001b[0m\u001b[0;34m\u001b[0m\u001b[0;34m\u001b[0m\u001b[0m\n\u001b[1;32m    206\u001b[0m   \u001b[0md\u001b[0m\u001b[0;34m.\u001b[0m\u001b[0mexpect\u001b[0m\u001b[0;34m(\u001b[0m\u001b[0;34mu'Stopped'\u001b[0m\u001b[0;34m)\u001b[0m\u001b[0;34m\u001b[0m\u001b[0;34m\u001b[0m\u001b[0m\n",
            "\u001b[0;32m/usr/local/lib/python3.6/dist-packages/ipykernel/kernelbase.py\u001b[0m in \u001b[0;36mgetpass\u001b[0;34m(self, prompt, stream)\u001b[0m\n\u001b[1;32m    686\u001b[0m             \u001b[0mself\u001b[0m\u001b[0;34m.\u001b[0m\u001b[0m_parent_ident\u001b[0m\u001b[0;34m,\u001b[0m\u001b[0;34m\u001b[0m\u001b[0;34m\u001b[0m\u001b[0m\n\u001b[1;32m    687\u001b[0m             \u001b[0mself\u001b[0m\u001b[0;34m.\u001b[0m\u001b[0m_parent_header\u001b[0m\u001b[0;34m,\u001b[0m\u001b[0;34m\u001b[0m\u001b[0;34m\u001b[0m\u001b[0m\n\u001b[0;32m--> 688\u001b[0;31m             \u001b[0mpassword\u001b[0m\u001b[0;34m=\u001b[0m\u001b[0;32mTrue\u001b[0m\u001b[0;34m,\u001b[0m\u001b[0;34m\u001b[0m\u001b[0;34m\u001b[0m\u001b[0m\n\u001b[0m\u001b[1;32m    689\u001b[0m         )\n\u001b[1;32m    690\u001b[0m \u001b[0;34m\u001b[0m\u001b[0m\n",
            "\u001b[0;32m/usr/local/lib/python3.6/dist-packages/ipykernel/kernelbase.py\u001b[0m in \u001b[0;36m_input_request\u001b[0;34m(self, prompt, ident, parent, password)\u001b[0m\n\u001b[1;32m    733\u001b[0m             \u001b[0;32mexcept\u001b[0m \u001b[0mKeyboardInterrupt\u001b[0m\u001b[0;34m:\u001b[0m\u001b[0;34m\u001b[0m\u001b[0;34m\u001b[0m\u001b[0m\n\u001b[1;32m    734\u001b[0m                 \u001b[0;31m# re-raise KeyboardInterrupt, to truncate traceback\u001b[0m\u001b[0;34m\u001b[0m\u001b[0;34m\u001b[0m\u001b[0;34m\u001b[0m\u001b[0m\n\u001b[0;32m--> 735\u001b[0;31m                 \u001b[0;32mraise\u001b[0m \u001b[0mKeyboardInterrupt\u001b[0m\u001b[0;34m\u001b[0m\u001b[0;34m\u001b[0m\u001b[0m\n\u001b[0m\u001b[1;32m    736\u001b[0m             \u001b[0;32melse\u001b[0m\u001b[0;34m:\u001b[0m\u001b[0;34m\u001b[0m\u001b[0;34m\u001b[0m\u001b[0m\n\u001b[1;32m    737\u001b[0m                 \u001b[0;32mbreak\u001b[0m\u001b[0;34m\u001b[0m\u001b[0;34m\u001b[0m\u001b[0m\n",
            "\u001b[0;31mKeyboardInterrupt\u001b[0m: "
          ]
        }
      ]
    },
    {
      "cell_type": "code",
      "metadata": {
        "id": "XQj8lKzqbXG7",
        "colab_type": "code",
        "colab": {}
      },
      "source": [
        "import numpy as np \n",
        "import pandas as pd\n",
        "from sklearn.model_selection import train_test_split\n",
        "from collections import OrderedDict\n",
        "import theano\n",
        "import theano.tensor as T"
      ],
      "execution_count": 0,
      "outputs": []
    },
    {
      "cell_type": "code",
      "metadata": {
        "id": "NnaK4N_ybeM7",
        "colab_type": "code",
        "colab": {}
      },
      "source": [
        "def main():\n",
        "    breast_cancer = '/content/drive/My Drive/ロジスティック回帰/duke-breast-cancer.txt'\n",
        "    data = pd.read_table(breast_cancer,header=None)\n",
        "    X = data.drop(data.columns[0],axis=1)\n",
        "    y = data[data.columns[0]]\n",
        "\n",
        "    X_train, X_test, y_train, y_test=train_test_split(X, y, shuffle=True)\n",
        "    \n",
        "    lambd= 0.01\n",
        "    training_epochs = 100\n",
        "\n",
        "    w_init = np.random.normal(loc=0.0,scale=lambd,size=X_train.shape[1])\n",
        "    train = model(X_train, y_train, lambd, w_init)\n",
        "\n",
        "    min_w = np.empty_like(w_init)\n",
        "    min_loss = 999\n",
        "    for t in range(training_epochs):\n",
        "        loss, w = train(X,y)\n",
        "        print('{}: loss:{}'.format(t,loss))\n",
        "        if loss < min_loss :\n",
        "            min_w = w\n",
        "            min_loss = loss\n",
        "\n",
        "    print(min_w) \n",
        "\n",
        "\n"
      ],
      "execution_count": 0,
      "outputs": []
    },
    {
      "cell_type": "code",
      "metadata": {
        "id": "sAjWgktAbfjm",
        "colab_type": "code",
        "colab": {}
      },
      "source": [
        "class Optimizer(object):\n",
        "  def __init__(self,params=None):\n",
        "    if params is None:\n",
        "      return NotImplementedError()\n",
        "    self.params = params\n",
        "  def updates(self,loss=None):\n",
        "    if loss is None:\n",
        "      return NotImplementedError()\n",
        "    self.updates = OrderedDict()\n",
        "    self.gparams = [T.grad(loss,param) for param in self.params]\n",
        "\n"
      ],
      "execution_count": 0,
      "outputs": []
    },
    {
      "cell_type": "code",
      "metadata": {
        "id": "quEMGIOBbjR_",
        "colab_type": "code",
        "colab": {}
      },
      "source": [
        "class SGD(Optimizer):\n",
        "    def __init__(self, learning_rate=0.01, params=None):\n",
        "        super(SGD, self).__init__(params=params)\n",
        "        self.learning_rate = 0.01\n",
        "\n",
        "    def updates(self, loss=None):\n",
        "        super(SGD, self).updates(loss=loss)\n",
        "\n",
        "        for param, gparam in zip(self.params, self.gparams):\n",
        "            self.updates[param] = param - self.learning_rate * gparam\n",
        "\n",
        "        return self.updates\n"
      ],
      "execution_count": 0,
      "outputs": []
    },
    {
      "cell_type": "code",
      "metadata": {
        "id": "caODwju1btNT",
        "colab_type": "code",
        "colab": {}
      },
      "source": [
        "def model(X,y,lambd, w_init):\n",
        "  X = T.matrix(name=\"X\")\n",
        "  y = T.vector(name=\"y\")  \n",
        "  w = theano.shared(w_init, name=\"w\")\n",
        "  \n",
        "  p_1 = 1/(1+T.exp(-T.dot(X,w)))\n",
        "  xent = -y * T.log(p_1) - (1-y)*T.log(1-p_1)\n",
        "  loss = xent.mean() + lambd * (w ** 2).sum()/2\n",
        "\n",
        "  params = [w]\n",
        "  updates = SGD(params=params).updates(loss)\n",
        "\n",
        "  print('start: compile model')\n",
        "\n",
        "  train = theano.function(\n",
        "            inputs=[X, y],\n",
        "            outputs=[loss,w],\n",
        "            updates=updates)\n",
        "\n",
        "  print('complete: compile model')\n",
        "\n",
        "  return train"
      ],
      "execution_count": 0,
      "outputs": []
    },
    {
      "cell_type": "code",
      "metadata": {
        "id": "Qh8Zz2eCbk_f",
        "colab_type": "code",
        "outputId": "03ac164e-96e1-4eff-8806-211bd8f8cff7",
        "colab": {
          "base_uri": "https://localhost:8080/",
          "height": 1000
        }
      },
      "source": [
        "main()"
      ],
      "execution_count": 0,
      "outputs": [
        {
          "output_type": "stream",
          "text": [
            "/usr/local/lib/python3.6/dist-packages/ipykernel_launcher.py:3: FutureWarning: read_table is deprecated, use read_csv instead, passing sep='\\t'.\n",
            "  This is separate from the ipykernel package so we can avoid doing imports until\n"
          ],
          "name": "stderr"
        },
        {
          "output_type": "stream",
          "text": [
            "start: compile model\n",
            "complete: compile model\n",
            "0: loss:0.677692804264284\n",
            "1: loss:0.9570767005502536\n",
            "2: loss:0.8826527317955893\n",
            "3: loss:0.5888267360666063\n",
            "4: loss:0.34558362774780477\n",
            "5: loss:0.1405608123039341\n",
            "6: loss:0.07939343758354801\n",
            "7: loss:0.07089334570224845\n",
            "8: loss:0.06481531985971402\n",
            "9: loss:0.059973455539198806\n",
            "10: loss:0.055938465432309147\n",
            "11: loss:0.052495785306479595\n",
            "12: loss:0.04951257451215215\n",
            "13: loss:0.046896911349515895\n",
            "14: loss:0.04458144735760853\n",
            "15: loss:0.04251512748502162\n",
            "16: loss:0.04065831017262738\n",
            "17: loss:0.03897963273589248\n",
            "18: loss:0.03745389229256482\n",
            "19: loss:0.03606056328327277\n",
            "20: loss:0.03478273321029842\n",
            "21: loss:0.03360632234405279\n",
            "22: loss:0.03251950124001739\n",
            "23: loss:0.03151224900761679\n",
            "24: loss:0.030576013586575423\n",
            "25: loss:0.029703447161871566\n",
            "26: loss:0.028888197737956575\n",
            "27: loss:0.028124743243985187\n",
            "28: loss:0.02740825823797986\n",
            "29: loss:0.026734505873105222\n",
            "30: loss:0.026099749638829793\n",
            "31: loss:0.025500680726057674\n",
            "32: loss:0.024934357842990206\n",
            "33: loss:0.024398157032143087\n",
            "34: loss:0.023889729580410853\n",
            "35: loss:0.023406966523291592\n",
            "36: loss:0.02294796855657807\n",
            "37: loss:0.02251102040907498\n",
            "38: loss:0.0220945689163215\n",
            "39: loss:0.021697204181055783\n",
            "40: loss:0.021317643320948775\n",
            "41: loss:0.020954716395155174\n",
            "42: loss:0.02060735417386185\n",
            "43: loss:0.02027457747332636\n",
            "44: loss:0.019955487825979813\n",
            "45: loss:0.019649259293391\n",
            "46: loss:0.01935513126107384\n",
            "47: loss:0.01907240207969307\n",
            "48: loss:0.018800423438287032\n",
            "49: loss:0.01853859537255338\n",
            "50: loss:0.0182863618257242\n",
            "51: loss:0.01804320669163594\n",
            "52: loss:0.017808650279711388\n",
            "53: loss:0.017582246150075267\n",
            "54: loss:0.017363578274189616\n",
            "55: loss:0.017152258482464752\n",
            "56: loss:0.01694792416544912\n",
            "57: loss:0.016750236199589017\n",
            "58: loss:0.016558877072292397\n",
            "59: loss:0.016373549184240353\n",
            "60: loss:0.016193973309645157\n",
            "61: loss:0.016019887197525996\n",
            "62: loss:0.015851044299121854\n",
            "63: loss:0.015687212608334816\n",
            "64: loss:0.015528173603634404\n",
            "65: loss:0.01537372128119056\n",
            "66: loss:0.015223661270169067\n",
            "67: loss:0.015077810022141185\n",
            "68: loss:0.01493599406744843\n",
            "69: loss:0.01479804933214669\n",
            "70: loss:0.014663820509838003\n",
            "71: loss:0.014533160483304325\n",
            "72: loss:0.014405929791388317\n",
            "73: loss:0.01428199613703911\n",
            "74: loss:0.014161233932854978\n",
            "75: loss:0.014043523880826872\n",
            "76: loss:0.013928752583311704\n",
            "77: loss:0.0138168121825583\n",
            "78: loss:0.013707600026367077\n",
            "79: loss:0.013601018357696839\n",
            "80: loss:0.013496974026238676\n",
            "81: loss:0.013395378220162709\n",
            "82: loss:0.013296146216408072\n",
            "83: loss:0.013199197148036827\n",
            "84: loss:0.013104453787305164\n",
            "85: loss:0.01301184234322529\n",
            "86: loss:0.012921292272500648\n",
            "87: loss:0.012832736102813757\n",
            "88: loss:0.012746109267534382\n",
            "89: loss:0.012661349950995712\n",
            "90: loss:0.012578398943557681\n",
            "91: loss:0.012497199505742353\n",
            "92: loss:0.012417697240784936\n",
            "93: loss:0.012339839974998525\n",
            "94: loss:0.012263577645398462\n",
            "95: loss:0.012188862194077598\n",
            "96: loss:0.012115647468863537\n",
            "97: loss:0.012043889129825644\n",
            "98: loss:0.011973544561234608\n",
            "99: loss:0.011904572788605638\n",
            "[-0.0067165   0.02105996  0.01619685 ... -0.00205743 -0.00596254\n",
            " -0.0157668 ]\n"
          ],
          "name": "stdout"
        }
      ]
    }
  ]
}